{
 "cells": [
  {
   "cell_type": "code",
   "execution_count": 47,
   "metadata": {},
   "outputs": [
    {
     "data": {
      "text/html": [
       "<div>\n",
       "<style scoped>\n",
       "    .dataframe tbody tr th:only-of-type {\n",
       "        vertical-align: middle;\n",
       "    }\n",
       "\n",
       "    .dataframe tbody tr th {\n",
       "        vertical-align: top;\n",
       "    }\n",
       "\n",
       "    .dataframe thead th {\n",
       "        text-align: right;\n",
       "    }\n",
       "</style>\n",
       "<table border=\"1\" class=\"dataframe\">\n",
       "  <thead>\n",
       "    <tr style=\"text-align: right;\">\n",
       "      <th></th>\n",
       "      <th>body_text</th>\n",
       "      <th>#_comments</th>\n",
       "      <th>#_subs</th>\n",
       "      <th>#_uploads</th>\n",
       "      <th>profanity_in_name</th>\n",
       "      <th>age</th>\n",
       "      <th>label</th>\n",
       "      <th>body_len</th>\n",
       "      <th>punct%</th>\n",
       "    </tr>\n",
       "  </thead>\n",
       "  <tbody>\n",
       "    <tr>\n",
       "      <th>0</th>\n",
       "      <td>[nebodyels, hear, crazi, ass, screamin, hoe, e...</td>\n",
       "      <td>10</td>\n",
       "      <td>1</td>\n",
       "      <td>3</td>\n",
       "      <td>0</td>\n",
       "      <td>15</td>\n",
       "      <td>not_hate</td>\n",
       "      <td>395</td>\n",
       "      <td>8.1</td>\n",
       "    </tr>\n",
       "    <tr>\n",
       "      <th>1</th>\n",
       "      <td>[mani, thing, incorrect, comment, unbeliev, gu...</td>\n",
       "      <td>3</td>\n",
       "      <td>0</td>\n",
       "      <td>5</td>\n",
       "      <td>0</td>\n",
       "      <td>31</td>\n",
       "      <td>not_hate</td>\n",
       "      <td>506</td>\n",
       "      <td>4.2</td>\n",
       "    </tr>\n",
       "    <tr>\n",
       "      <th>2</th>\n",
       "      <td>[326, hahah, boyfriend, show, song, love, tooo...</td>\n",
       "      <td>7</td>\n",
       "      <td>0</td>\n",
       "      <td>5</td>\n",
       "      <td>0</td>\n",
       "      <td>43</td>\n",
       "      <td>hate</td>\n",
       "      <td>145</td>\n",
       "      <td>3.4</td>\n",
       "    </tr>\n",
       "    <tr>\n",
       "      <th>3</th>\n",
       "      <td>[dick, beyonc, fuck, ass, hole, trueli, dog, b...</td>\n",
       "      <td>34</td>\n",
       "      <td>0</td>\n",
       "      <td>5</td>\n",
       "      <td>0</td>\n",
       "      <td>44</td>\n",
       "      <td>hate</td>\n",
       "      <td>670</td>\n",
       "      <td>1.9</td>\n",
       "    </tr>\n",
       "    <tr>\n",
       "      <th>4</th>\n",
       "      <td>[donghaetaemin, kai, luhansehun, bacon, xd, ta...</td>\n",
       "      <td>11</td>\n",
       "      <td>173</td>\n",
       "      <td>5</td>\n",
       "      <td>0</td>\n",
       "      <td>21</td>\n",
       "      <td>not_hate</td>\n",
       "      <td>439</td>\n",
       "      <td>4.6</td>\n",
       "    </tr>\n",
       "  </tbody>\n",
       "</table>\n",
       "</div>"
      ],
      "text/plain": [
       "                                           body_text  #_comments  #_subs  \\\n",
       "0  [nebodyels, hear, crazi, ass, screamin, hoe, e...          10       1   \n",
       "1  [mani, thing, incorrect, comment, unbeliev, gu...           3       0   \n",
       "2  [326, hahah, boyfriend, show, song, love, tooo...           7       0   \n",
       "3  [dick, beyonc, fuck, ass, hole, trueli, dog, b...          34       0   \n",
       "4  [donghaetaemin, kai, luhansehun, bacon, xd, ta...          11     173   \n",
       "\n",
       "   #_uploads  profanity_in_name  age     label  body_len  punct%  \n",
       "0          3                  0   15  not_hate       395     8.1  \n",
       "1          5                  0   31  not_hate       506     4.2  \n",
       "2          5                  0   43      hate       145     3.4  \n",
       "3          5                  0   44      hate       670     1.9  \n",
       "4          5                  0   21  not_hate       439     4.6  "
      ]
     },
     "execution_count": 47,
     "metadata": {},
     "output_type": "execute_result"
    }
   ],
   "source": [
    "import nltk\n",
    "import pandas as pd\n",
    "import re\n",
    "from sklearn.feature_extraction.text import TfidfVectorizer\n",
    "import string\n",
    "\n",
    "stopwords = nltk.corpus.stopwords.words('english')\n",
    "ps = nltk.PorterStemmer()\n",
    "\n",
    "data = pd.read_csv(\"soham.csv\", sep=',')\n",
    "data.columns = ['index', 'user_index', 'body_text', '#_comments', '#_subs', 'membership_duration','#_uploads','profanity_in_name','age', 'label']\n",
    "\n",
    "del data['index']\n",
    "del data['user_index']\n",
    "del data['membership_duration']\n",
    "\n",
    "def hate_or_not(number):\n",
    "    if number == 0:\n",
    "        number = 'not_hate'\n",
    "    if number == 1:\n",
    "        number = 'hate'\n",
    "    return number\n",
    "\n",
    "def clean_text(text): \n",
    "    text = \"\".join([word.lower() for word in text if word not in string.punctuation])\n",
    "    tokens = re.split('\\W+', text)\n",
    "    text = [ps.stem(word) for word in tokens if word not in stopwords]\n",
    "    return text\n",
    "    \n",
    "def count_punct(text):\n",
    "    count = sum([1 for char in text if char in string.punctuation])\n",
    "    return round(count/(len(text) - text.count(\" \")), 3)*100\n",
    "\n",
    "data['body_len'] = data['body_text'].apply(lambda x: len(x) - x.count(\" \"))\n",
    "data['punct%'] = data['body_text'].apply(lambda x: count_punct(x))\n",
    "data['label'] = data['label'].apply(lambda x: hate_or_not(x))\n",
    "\n",
    "\n",
    "data['body_text'] = data['body_text'].apply(lambda x: clean_text(x))\n",
    "\n",
    "data.head()\n",
    "\n"
   ]
  },
  {
   "cell_type": "code",
   "execution_count": 50,
   "metadata": {},
   "outputs": [],
   "source": [
    "from sklearn.ensemble import RandomForestClassifier, GradientBoostingClassifier\n",
    "from sklearn.metrics import precision_recall_fscore_support as score\n",
    "import time\n"
   ]
  },
  {
   "cell_type": "code",
   "execution_count": 160,
   "metadata": {},
   "outputs": [],
   "source": [
    "from sklearn.model_selection import train_test_split\n",
    "\n",
    "X_train, X_test, y_train, y_test = train_test_split(data[['body_text', 'body_len', 'punct%', '#_comments', '#_subs', '#_uploads','profanity_in_name','age']], data['label'], test_size=0.2)"
   ]
  },
  {
   "cell_type": "code",
   "execution_count": 161,
   "metadata": {},
   "outputs": [],
   "source": [
    "\n",
    "tfidf_vect = TfidfVectorizer(analyzer=clean_text)\n",
    "tfidf_vect_fit = tfidf_vect.fit(X_train['body_text'])\n",
    "\n",
    "\n",
    "tfidf_train = tfidf_vect_fit.transform(X_train['body_text'])\n",
    "tfidf_test = tfidf_vect_fit.transform(X_test['body_text'])\n",
    "\n",
    "X_train_vect = pd.concat([X_train[['body_len', 'punct%', '#_comments', '#_subs', '#_uploads','profanity_in_name','age']].reset_index(drop=True), pd.DataFrame(tfidf_train.toarray())], axis=1)\n",
    "X_test_vect = pd.concat([X_test[['body_len', 'punct%', '#_comments', '#_subs', '#_uploads','profanity_in_name','age']].reset_index(drop=True), pd.DataFrame(tfidf_test.toarray())], axis=1)\n"
   ]
  },
  {
   "cell_type": "code",
   "execution_count": 162,
   "metadata": {},
   "outputs": [
    {
     "name": "stdout",
     "output_type": "stream",
     "text": [
      "Fit time: 0.42 / Predict time: 0.045 / Precision: 0.0 / Recall: 0.0 / Accuracy: 0.877\n"
     ]
    },
    {
     "name": "stderr",
     "output_type": "stream",
     "text": [
      "c:\\ProgramData\\Anaconda3\\lib\\site-packages\\sklearn\\metrics\\_classification.py:1318: UndefinedMetricWarning: Precision and F-score are ill-defined and being set to 0.0 due to no predicted samples. Use `zero_division` parameter to control this behavior.\n",
      "  _warn_prf(average, modifier, msg_start, len(result))\n"
     ]
    }
   ],
   "source": [
    "rf = RandomForestClassifier(n_estimators=100, max_depth=50, n_jobs=-1)\n",
    "\n",
    "start = time.time()\n",
    "rf_model = rf.fit(X_train_vect.values, y_train.values)\n",
    "end = time.time()\n",
    "fit_time = (end - start)\n",
    "\n",
    "start = time.time()\n",
    "y_pred = rf_model.predict(X_test_vect.values)\n",
    "end = time.time()\n",
    "pred_time = (end - start)\n",
    "\n",
    "\n",
    "precision, recall, fscore, train_support = score(y_test, y_pred, pos_label='hate', average='binary')\n",
    "print('Fit time: {} / Predict time: {} / Precision: {} / Recall: {} / Accuracy: {}'.format(round(fit_time, 3), round(pred_time, 3),\n",
    "    round(precision, 3), round(recall, 3), round((y_pred==y_test).sum()/len(y_pred), 3)))"
   ]
  },
  {
   "cell_type": "code",
   "execution_count": 156,
   "metadata": {},
   "outputs": [
    {
     "name": "stdout",
     "output_type": "stream",
     "text": [
      "Fit time: 9.058 / Predict time: 0.039 / Precision: 0.333 / Recall: 0.012 / Accuracy: 0.883\n"
     ]
    }
   ],
   "source": [
    "gb = GradientBoostingClassifier(n_estimators=50, max_depth=7)\n",
    "\n",
    "start = time.time()\n",
    "gb_model = gb.fit(X_train_vect.values, y_train.values)\n",
    "end = time.time()\n",
    "fit_time = (end - start)\n",
    "\n",
    "\n",
    "start = time.time()\n",
    "y_pred = gb_model.predict(X_test_vect.values)\n",
    "end = time.time()\n",
    "pred_time = (end - start)\n",
    "\n",
    "\n",
    "precision, recall, fscore, train_support = score(y_test, y_pred, pos_label='hate', average='binary')\n",
    "print('Fit time: {} / Predict time: {} / Precision: {} / Recall: {} / Accuracy: {}'.format(round(fit_time, 3), round(pred_time, 3),\n",
    "    round(precision, 3), round(recall, 3), round((y_pred==y_test).sum()/len(y_pred), 3)))"
   ]
  },
  {
   "cell_type": "code",
   "execution_count": null,
   "metadata": {},
   "outputs": [],
   "source": []
  }
 ],
 "metadata": {
  "kernelspec": {
   "display_name": "Python 3.9.13 ('base')",
   "language": "python",
   "name": "python3"
  },
  "language_info": {
   "codemirror_mode": {
    "name": "ipython",
    "version": 3
   },
   "file_extension": ".py",
   "mimetype": "text/x-python",
   "name": "python",
   "nbconvert_exporter": "python",
   "pygments_lexer": "ipython3",
   "version": "3.9.13"
  },
  "orig_nbformat": 4,
  "vscode": {
   "interpreter": {
    "hash": "ad2bdc8ecc057115af97d19610ffacc2b4e99fae6737bb82f5d7fb13d2f2c186"
   }
  }
 },
 "nbformat": 4,
 "nbformat_minor": 2
}
